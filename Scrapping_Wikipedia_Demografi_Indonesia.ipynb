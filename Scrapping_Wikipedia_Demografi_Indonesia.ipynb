{
 "cells": [
  {
   "cell_type": "code",
   "execution_count": 1,
   "metadata": {},
   "outputs": [],
   "source": [
    "#import library yang dibutuhkan\n",
    "import pandas as pd\n",
    "import requests\n",
    "from bs4 import BeautifulSoup"
   ]
  },
  {
   "cell_type": "code",
   "execution_count": 2,
   "metadata": {},
   "outputs": [],
   "source": [
    "#buatlah request ke website\n",
    "website_url = requests.get('https://id.wikipedia.org/wiki/Demografi_Indonesia').text\n",
    "soup = BeautifulSoup(website_url, 'lxml')\n"
   ]
  },
  {
   "cell_type": "code",
   "execution_count": 3,
   "metadata": {},
   "outputs": [],
   "source": [
    "#ambil table dengan class 'wikitable sortable'\n",
    "my_table = soup.find('table', {'class':'wikitable sortable'})"
   ]
  },
  {
   "cell_type": "code",
   "execution_count": 4,
   "metadata": {},
   "outputs": [],
   "source": [
    "#cari data dengan tag 'td'\n",
    "links = my_table.findAll('td')\n"
   ]
  },
  {
   "cell_type": "code",
   "execution_count": 5,
   "metadata": {},
   "outputs": [],
   "source": [
    "#buatlah lists kosong\n",
    "kode_bps = []\n",
    "nama = []\n",
    "ibu_kota = []\n",
    "populasi = []\n",
    "luas_km = []\n",
    "pulau = []"
   ]
  },
  {
   "cell_type": "code",
   "execution_count": 7,
   "metadata": {},
   "outputs": [],
   "source": [
    "#memasukkan data ke dalam list berdasarkan pola HTML\n",
    "for i, link in enumerate(links):\n",
    "    if i in range(0, len(links), 9):\n",
    "        kode_bps.append(link.get_text())\n",
    "    if i in range(2, len(links), 9):\n",
    "        nama.append(link.get_text())\n",
    "    if i in range(4, len(links), 9):\n",
    "        ibu_kota.append(link.get_text())\n",
    "    if i in range(5, len(links), 9):\n",
    "        populasi.append(link.get_text())\n",
    "    if i in range(6, len(links), 9):\n",
    "        luas_km.append(link.get_text())\n",
    "    if i in range(8, len(links), 9):\n",
    "        pulau.append(link.get_text()[:-1])"
   ]
  },
  {
   "cell_type": "code",
   "execution_count": 8,
   "metadata": {},
   "outputs": [],
   "source": [
    "#buatlah DatFrame dan masukkan ke CSV\n",
    "df = pd.DataFrame()\n",
    "df['Kode BPS'] = kode_bps\n",
    "df['Nama'] = nama\n",
    "df['Ibu Kota'] = ibu_kota\n",
    "df['Populasi'] = populasi\n",
    "df['Luas km'] = luas_km\n",
    "df['Pulau'] = pulau\n",
    "df.to_csv('Indonesia_Demography_by_Province.csv', index=False, encoding='utf-8', quoting=1)"
   ]
  },
  {
   "cell_type": "code",
   "execution_count": null,
   "metadata": {},
   "outputs": [],
   "source": []
  }
 ],
 "metadata": {
  "kernelspec": {
   "display_name": "Python 3",
   "language": "python",
   "name": "python3"
  },
  "language_info": {
   "codemirror_mode": {
    "name": "ipython",
    "version": 3
   },
   "file_extension": ".py",
   "mimetype": "text/x-python",
   "name": "python",
   "nbconvert_exporter": "python",
   "pygments_lexer": "ipython3",
   "version": "3.8.2"
  }
 },
 "nbformat": 4,
 "nbformat_minor": 4
}
